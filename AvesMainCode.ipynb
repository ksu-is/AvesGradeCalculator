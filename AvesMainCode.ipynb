{
 "cells": [
  {
   "cell_type": "code",
   "execution_count": 7,
   "metadata": {},
   "outputs": [],
   "source": [
    "def grade_calculator(line):\n",
    "\n",
    "\n",
    "    line = line[:-1]\n",
    "\n",
    "    list = line.split(\",\")\n",
    "\n",
    "    name = list[0]\n",
    "\n",
    "    homework_1 = int(list[1])\n",
    "\n",
    "    midterm = int(list[2])\n",
    "\n",
    "    homework_2 = int(list[3])\n",
    "    \n",
    "    finalexam = int(list[4])\n",
    "\n",
    "    final_grade = homework_1 * (25/100) + midterm * (50/100) + homework_2 * (25/100) + finalexam * (50/100)\n",
    "\n",
    "    if (final_grade >= 90):\n",
    "\n",
    "        adjusted = \"A\"\n",
    "    elif (final_grade >= 85):\n",
    "        adjusted = \"B+\"\n",
    "    elif (final_grade >= 80):\n",
    "        adjusted = \"B\"\n",
    "    elif (final_grade >= 75):\n",
    "        adjusted = \"C+\"\n",
    "    elif (final_grade >= 70):\n",
    "        adjusted = \"C\"\n",
    "    elif (final_grade >= 65):\n",
    "        adjusted = \"D\"\n",
    "    else:\n",
    "        adjusted = \"F\"\n",
    "\n",
    "    return name + \"-------------> \" + adjusted + \"\\n\"\n",
    "\n",
    "\n",
    "\n",
    "\n",
    "\n",
    "\n",
    "\n",
    "with open(\"classlist.txt\",\"r\",encoding= \"utf-8\") as file:\n",
    "\n",
    "    list_of_students = []\n",
    "\n",
    "    for i in file:\n",
    "\n",
    "        list_of_students.append(grade_calculator(i))\n",
    "\n",
    "    with open(\"finalgrades.txt\",\"w\",encoding=\"utf-8\") as new_file:\n",
    "\n",
    "        for i in list_of_students:\n",
    "            new_file.write(i)\n"
   ]
  },
  {
   "cell_type": "code",
   "execution_count": null,
   "metadata": {},
   "outputs": [],
   "source": []
  }
 ],
 "metadata": {
  "kernelspec": {
   "display_name": "Python 3",
   "language": "python",
   "name": "python3"
  },
  "language_info": {
   "codemirror_mode": {
    "name": "ipython",
    "version": 3
   },
   "file_extension": ".py",
   "mimetype": "text/x-python",
   "name": "python",
   "nbconvert_exporter": "python",
   "pygments_lexer": "ipython3",
   "version": "3.7.4"
  }
 },
 "nbformat": 4,
 "nbformat_minor": 2
}
