{
 "cells": [
  {
   "cell_type": "code",
   "execution_count": null,
   "metadata": {},
   "outputs": [],
   "source": [
    "#Main formatting, recycled from our 3rd code database.\n",
    "def grade_calculator(line):\n",
    "    line = line[:-1]\n",
    "    list = line.split(\",\")\n",
    "    name = list[0]\n",
    "\n",
    "#This is the list of assignments. Our example class is an entry level Biology class.\n",
    "#There are 25 students, and the assignments are few with a high weight to each. \n",
    "    \n",
    "    pretest = int(list[1])\n",
    "    carbon_date_project = int(list[2])\n",
    "    test_1 = int(list[3])\n",
    "    homework_1 = int(list[4])\n",
    "    test_2 = int(list[5])\n",
    "    homework_2 = int(list[6])\n",
    "\n",
    "#This is the formula for applying weight to the grade scores.\n",
    "final_grade = grade_1 * (25/100) + grade_2 * (25/100) + grade_3 * (50/100)\n",
    "\n",
    "    if (final_grade >= 90):\n",
    "\n",
    "#Weighting has been adjusted for a scale closer to KSU's standard grading system. 
    "        adjusted = \"A\"\n",
    "    elif (final_grade >= 85):\n",
    "        adjusted = \"B+\"\n",
    "    elif (final_grade >= 80):\n",
    "        adjusted = \"B\"\n",
    "    elif (final_grade >= 75):\n",
    "        adjusted = \"C+\"\n",
    "    elif (final_grade >= 70):\n",
    "        adjusted = \"C\"\n",
    "    elif (final_grade >= 65):\n",
    "        adjusted = \"D\"\n",
    "    else:\n",
    "        adjusted = \"F\"\n",
    "\n",
    "    return name + \"-------------> \" + adjusted + \"\\n\"\n",
    "\n",
    "\n",
    "#Command to source input data from \"classgradelist.txt\". Student grades are held within.\n",
    "with open(\"classgradelist.txt\",\"r\",encoding= \"utf-8\") as file:\n",
    "\n",
    "    list_of_students = []\n",
    "\n",
    "    for i in file:\n",
    "\n",
    "        list_of_students.append(grade_calculator(i))\n",
    "\n",
    "#Output formula\n",
    "    with open(\"finalgradelist.txt\",\"w\",encoding=\"utf-8\") as new_file:\n",
    "\n",
    "        for i in list_of_students:\n",
    "            new_file.write(i)"
   ]
  }
 ],
 "metadata": {
  "kernelspec": {
   "display_name": "Python 3",
   "language": "python",
   "name": "python3"
  },
  "language_info": {
   "codemirror_mode": {
    "name": "ipython",
    "version": 3
   },
   "file_extension": ".py",
   "mimetype": "text/x-python",
   "name": "python",
   "nbconvert_exporter": "python",
   "pygments_lexer": "ipython3",
   "version": "3.7.4"
  }
 },
 "nbformat": 4,
 "nbformat_minor": 2
}
