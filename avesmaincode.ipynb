{
 "cells": [
  {
   "cell_type": "code",
   "execution_count": 2,
   "metadata": {},
   "outputs": [
    {
     "ename": "NameError",
     "evalue": "name 'pretest' is not defined",
     "output_type": "error",
     "traceback": [
      "\u001b[1;31m---------------------------------------------------------------------------\u001b[0m",
      "\u001b[1;31mNameError\u001b[0m                                 Traceback (most recent call last)",
      "\u001b[1;32m<ipython-input-2-4d73bbebedd5>\u001b[0m in \u001b[0;36m<module>\u001b[1;34m\u001b[0m\n\u001b[0;32m     13\u001b[0m     \u001b[0mhomework_2\u001b[0m \u001b[1;33m=\u001b[0m \u001b[0mint\u001b[0m\u001b[1;33m(\u001b[0m\u001b[0mlist\u001b[0m\u001b[1;33m[\u001b[0m\u001b[1;36m6\u001b[0m\u001b[1;33m]\u001b[0m\u001b[1;33m)\u001b[0m\u001b[1;33m\u001b[0m\u001b[1;33m\u001b[0m\u001b[0m\n\u001b[0;32m     14\u001b[0m \u001b[1;31m#This is the formula for applying weight to the grade scores.\u001b[0m\u001b[1;33m\u001b[0m\u001b[1;33m\u001b[0m\u001b[1;33m\u001b[0m\u001b[0m\n\u001b[1;32m---> 15\u001b[1;33m \u001b[0mfinal_grade\u001b[0m \u001b[1;33m=\u001b[0m \u001b[0mpretest\u001b[0m \u001b[1;33m*\u001b[0m \u001b[1;33m(\u001b[0m\u001b[1;36m25\u001b[0m\u001b[1;33m/\u001b[0m\u001b[1;36m100\u001b[0m\u001b[1;33m)\u001b[0m \u001b[1;33m+\u001b[0m \u001b[0mcarbon_date_project\u001b[0m \u001b[1;33m*\u001b[0m \u001b[1;33m(\u001b[0m\u001b[1;36m25\u001b[0m\u001b[1;33m/\u001b[0m\u001b[1;36m100\u001b[0m\u001b[1;33m)\u001b[0m \u001b[1;33m+\u001b[0m \u001b[0mmidterm\u001b[0m \u001b[1;33m*\u001b[0m \u001b[1;33m(\u001b[0m\u001b[1;36m50\u001b[0m\u001b[1;33m/\u001b[0m\u001b[1;36m100\u001b[0m\u001b[1;33m)\u001b[0m \u001b[1;33m+\u001b[0m \u001b[0mhomework_1\u001b[0m \u001b[1;33m*\u001b[0m \u001b[1;33m(\u001b[0m\u001b[1;36m50\u001b[0m\u001b[1;33m/\u001b[0m\u001b[1;36m100\u001b[0m\u001b[1;33m)\u001b[0m \u001b[1;33m+\u001b[0m \u001b[0mfinal\u001b[0m \u001b[1;33m*\u001b[0m \u001b[1;33m(\u001b[0m\u001b[1;36m50\u001b[0m\u001b[1;33m/\u001b[0m\u001b[1;36m100\u001b[0m\u001b[1;33m)\u001b[0m \u001b[1;33m+\u001b[0m \u001b[0mhomework_2\u001b[0m \u001b[1;33m*\u001b[0m \u001b[1;33m(\u001b[0m\u001b[1;36m50\u001b[0m\u001b[1;33m/\u001b[0m\u001b[1;36m100\u001b[0m\u001b[1;33m)\u001b[0m\u001b[1;33m\u001b[0m\u001b[1;33m\u001b[0m\u001b[0m\n\u001b[0m\u001b[0;32m     16\u001b[0m \u001b[1;33m\u001b[0m\u001b[0m\n\u001b[0;32m     17\u001b[0m \u001b[1;31m#The grading scale has been brought more in line with KSU's standard for grading.\u001b[0m\u001b[1;33m\u001b[0m\u001b[1;33m\u001b[0m\u001b[1;33m\u001b[0m\u001b[0m\n",
      "\u001b[1;31mNameError\u001b[0m: name 'pretest' is not defined"
     ]
    }
   ],
   "source": [
    "#Main formatting, recycled from our 3rd code database.\n",
    "def grade_calculator(line):\n",
    "    line = line[:-1]\n",
    "    list = line.split(\",\")\n",
    "    name = list[0]\n",
    "#This is the list of assignments. Our example class is an entry level Biology class.\n",
    "#There are 25 students, and the assignments are few with a high weight to each. \n",
    "    pretest = int(list[1])\n",
    "    carbon_date_project = int(list[2])\n",
    "    midterm = int(list[3])\n",
    "    homework_1 = int(list[4])\n",
    "    final = int(list[5])\n",
    "    homework_2 = int(list[6])\n",
    "#This is the formula for applying weight to the grade scores.\n",
    "final_grade = pretest * (25/100) + carbon_date_project * (25/100) + midterm * (50/100) + homework_1 * (50/100) + final * (50/100) + homework_2 * (50/100)\n",
    "\n",
    "#The grading scale has been brought more in line with KSU's standard for grading.\n",
    "if (final_grade >= 90):\n",
    "\n",
    "    return name + \"-------------> \" + adjusted + \"\\n\"\n",
    "\n",
    "\n",
    "#Command to source input data from \"classgradelist.txt\". Student grades are held within.\n",
    "with open(\"classgradelist.txt\",\"r\",encoding= \"utf-8\") as file:\n",
    "\n",
    "    list_of_students = []\n",
    "\n",
    "    for i in file:\n",
    "\n",
    "        list_of_students.append(grade_calculator(i))\n",
    "\n",
    "#Output formula\n",
    "    with open(\"finalgradelist.txt\",\"w\",encoding=\"utf-8\") as new_file:\n",
    "\n",
    "        for i in list_of_students:\n",
    "            new_file.write(i)"
   ]
  },
  {
   "cell_type": "code",
   "execution_count": null,
   "metadata": {},
   "outputs": [],
   "source": []
  }
 ],
 "metadata": {
  "kernelspec": {
   "display_name": "Python 3",
   "language": "python",
   "name": "python3"
  },
  "language_info": {
   "codemirror_mode": {
    "name": "ipython",
    "version": 3
   },
   "file_extension": ".py",
   "mimetype": "text/x-python",
   "name": "python",
   "nbconvert_exporter": "python",
   "pygments_lexer": "ipython3",
   "version": "3.7.4"
  }
 },
 "nbformat": 4,
 "nbformat_minor": 2
}
